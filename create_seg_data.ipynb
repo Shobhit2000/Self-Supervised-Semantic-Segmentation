{
  "nbformat": 4,
  "nbformat_minor": 0,
  "metadata": {
    "colab": {
      "name": "SSL_segmentationipynb",
      "provenance": [],
      "collapsed_sections": []
    },
    "kernelspec": {
      "name": "python3",
      "display_name": "Python 3"
    },
    "language_info": {
      "name": "python"
    }
  },
  "cells": [
    {
      "cell_type": "code",
      "source": [
        "!mkdir seg_data\n",
        "!git clone https://github.com/AutoNUE/public-code.git"
      ],
      "metadata": {
        "id": "WSL2FnapstqW",
        "colab": {
          "base_uri": "https://localhost:8080/"
        },
        "outputId": "19ae4e22-edc3-4ee8-e2f5-90ea99bf1dfc"
      },
      "execution_count": 4,
      "outputs": [
        {
          "output_type": "stream",
          "name": "stdout",
          "text": [
            "Cloning into 'public-code'...\n",
            "remote: Enumerating objects: 404, done.\u001b[K\n",
            "remote: Counting objects: 100% (82/82), done.\u001b[K\n",
            "remote: Compressing objects: 100% (82/82), done.\u001b[K\n",
            "remote: Total 404 (delta 38), reused 1 (delta 0), pack-reused 322\u001b[K\n",
            "Receiving objects: 100% (404/404), 27.16 MiB | 28.94 MiB/s, done.\n",
            "Resolving deltas: 100% (184/184), done.\n"
          ]
        }
      ]
    },
    {
      "cell_type": "code",
      "source": [
        "!tar -xvf /content/drive/MyDrive/idd-20k-II.tar.gz -C /content/seg_data/\n",
        "# add these 2 lines in json2labelImg.py file in top\n",
        "# import sys\n",
        "# sys.path.insert(0, '/content/public-code/helpers')"
      ],
      "metadata": {
        "id": "oNR7UuvR3PKU"
      },
      "execution_count": null,
      "outputs": []
    },
    {
      "cell_type": "code",
      "source": [
        "%cd public-code/\n",
        "!python3 preperation/createLabels.py $ANUE --id-type level3Id $C"
      ],
      "metadata": {
        "id": "ostS6d6I3nsT"
      },
      "execution_count": null,
      "outputs": []
    },
    {
      "cell_type": "code",
      "source": [
        "import os\n",
        "import cv2\n",
        "\n",
        "# Make data folders\n",
        "!mkdir idd_seg\n",
        "!mkdir idd_seg/input/\n",
        "!mkdir idd_seg/labels/\n",
        "\n",
        "!mkdir idd_seg/input/train\n",
        "!mkdir idd_seg/input/val\n",
        "!mkdir idd_seg/input/test\n",
        "\n",
        "!mkdir idd_seg/labels/train\n",
        "!mkdir idd_seg/labels/val"
      ],
      "metadata": {
        "id": "0s88bkNiVnRb"
      },
      "execution_count": 17,
      "outputs": []
    },
    {
      "cell_type": "code",
      "source": [
        "# import shutil\n",
        "# shutil.rmtree('idd_seg1')\n",
        "\n",
        "# !rm IDD_Seg.zip"
      ],
      "metadata": {
        "id": "GaPXPwv9byOm"
      },
      "execution_count": 50,
      "outputs": []
    },
    {
      "cell_type": "code",
      "source": [
        "# Read images, resize and place it in different folder for input and labels\n",
        "\n",
        "train_path = '/content/seg_data/idd_seg/leftImg8bit/train/'\n",
        "test_path = '/content/seg_data/idd_seg/leftImg8bit/test/'\n",
        "val_path = '/content/seg_data/idd_seg/leftImg8bit/val/'\n",
        "\n",
        "train_dst = '/content/idd_seg/input/train/'\n",
        "test_dst = '/content/idd_seg/input/test/'\n",
        "val_dst = '/content/idd_seg/input/val/'\n",
        "\n",
        "i = 1\n",
        "for _, dirs, _ in os.walk(train_path):\n",
        "  for d in dirs:\n",
        "    path = train_path + d\n",
        "    for _, _, filename in os.walk(path):\n",
        "      for f in filename:\n",
        "        img_path = path + '/' + f\n",
        "        print(img_path)\n",
        "        img = cv2.imread(img_path)\n",
        "        img = cv2.resize(img, (640, 360))\n",
        "        dstimg_path = train_dst+f\n",
        "        cv2.imwrite(dstimg_path, img)\n",
        "        i += 1\n",
        "        print(i)\n",
        "i = 1\n",
        "for _, dirs, _ in os.walk(test_path):\n",
        "  for d in dirs:\n",
        "    path = test_path + d\n",
        "    for _, _, filename in os.walk(path):\n",
        "      for f in filename:\n",
        "        img_path = path + '/' + f\n",
        "        img = cv2.imread(img_path)\n",
        "        img = cv2.resize(img, (640, 360))\n",
        "        dstimg_path = test_dst+f\n",
        "        cv2.imwrite(dstimg_path, img)\n",
        "        i += 1\n",
        "        print(i)\n",
        "\n",
        "i = 1\n",
        "for _, dirs, _ in os.walk(val_path):\n",
        "  for d in dirs:\n",
        "    path = val_path + d\n",
        "    for _, _, filename in os.walk(path):\n",
        "      for f in filename:\n",
        "        img_path = path + '/' + f\n",
        "        img = cv2.imread(img_path)\n",
        "        img = cv2.resize(img, (640, 360))\n",
        "        dstimg_path = val_dst+f\n",
        "        cv2.imwrite(dstimg_path, img)\n",
        "        i += 1\n",
        "        print(i)"
      ],
      "metadata": {
        "id": "26L67Jx_N48e"
      },
      "execution_count": null,
      "outputs": []
    },
    {
      "cell_type": "code",
      "source": [
        "train_path = '/content/seg_data/idd_seg/gtFine/train/'\n",
        "val_path = '/content/seg_data/idd_seg/gtFine/val/'\n",
        "\n",
        "train_dst = '/content/idd_seg/labels/train/'\n",
        "val_dst = '/content/idd_seg/labels/val/'\n",
        "\n",
        "i = 1\n",
        "for _, dirs, _ in os.walk(train_path):\n",
        "  for d in dirs:\n",
        "    path = train_path + d\n",
        "    for _, _, filename in os.walk(path):\n",
        "      for f in filename:\n",
        "        if(f.endswith('Colors.png')):\n",
        "          img_path = path + '/' + f\n",
        "          img = cv2.imread(img_path)\n",
        "          img = cv2.resize(img, (640, 360))\n",
        "          dstimg_path = train_dst+f\n",
        "          cv2.imwrite(dstimg_path, img)\n",
        "          i += 1\n",
        "          print(i)\n",
        "\n",
        "i = 1\n",
        "for _, dirs, _ in os.walk(val_path):\n",
        "  for d in dirs:\n",
        "    path = val_path + d\n",
        "    for _, _, filename in os.walk(path):\n",
        "      for f in filename:\n",
        "        if(f.endswith('Colors.png')):\n",
        "          img_path = path + '/' + f\n",
        "          img = cv2.imread(img_path)\n",
        "          img = cv2.resize(img, (640, 360))\n",
        "          dstimg_path = val_dst+f\n",
        "          cv2.imwrite(dstimg_path, img)\n",
        "          i += 1\n",
        "          print(i)"
      ],
      "metadata": {
        "id": "wKWvwk-vY1BB"
      },
      "execution_count": null,
      "outputs": []
    },
    {
      "cell_type": "code",
      "source": [
        "!zip -r IDD_Seg.zip idd_seg\n",
        "!cp -R IDD_Seg.zip /content/drive/MyDrive/"
      ],
      "metadata": {
        "id": "OGhnI8grg_MO"
      },
      "execution_count": null,
      "outputs": []
    },
    {
      "cell_type": "code",
      "source": [
        "!unzip /content/drive/MyDrive/IDD_Seg.zip -d /content/"
      ],
      "metadata": {
        "id": "PmUcXlsbmMuQ"
      },
      "execution_count": null,
      "outputs": []
    },
    {
      "cell_type": "code",
      "source": [
        ""
      ],
      "metadata": {
        "id": "XEgangRQmhla"
      },
      "execution_count": null,
      "outputs": []
    }
  ]
}